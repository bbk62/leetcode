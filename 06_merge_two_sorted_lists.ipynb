{
 "cells": [
  {
   "cell_type": "code",
   "execution_count": 87,
   "id": "766c6e3a",
   "metadata": {},
   "outputs": [],
   "source": [
    "class Solution:\n",
    "    def mergeTwoLists(self, list1: list, list2: list) -> list:\n",
    "        if len(list1) == len(list2) == 0:\n",
    "            return []\n",
    "        elif len(list1) == 0 and len(list2) != 0:\n",
    "            return list2\n",
    "        elif len(list1) != 0 and len(list2) == 0:\n",
    "            return list1\n",
    "        else:\n",
    "            if len(list1) > len(list2):\n",
    "                alist = list1\n",
    "                blist = list2\n",
    "            else:\n",
    "                alist = list2\n",
    "                blist = list1\n",
    "            merged_list = []\n",
    "            blist_index = 0\n",
    "            for i in range(len(alist)):\n",
    "                for j in range(blist_index, len(blist), 1):\n",
    "                    if alist[i] < blist[j]:\n",
    "                        merged_list.append(alist[i])\n",
    "                        break\n",
    "                    elif blist[j] < alist[i]:\n",
    "                        merged_list.append(blist[j])\n",
    "                        blist_index += 1\n",
    "                        continue\n",
    "                    else:\n",
    "                        merged_list.append(alist[i])\n",
    "                        merged_list.append(blist[j])\n",
    "                        blist_index += 1\n",
    "                        break\n",
    "            if i == len(blist):\n",
    "                merged_list += alist[i:]\n",
    "        return merged_list"
   ]
  },
  {
   "cell_type": "code",
   "execution_count": 95,
   "id": "76a1afdf",
   "metadata": {},
   "outputs": [],
   "source": [
    "list1 = []\n",
    "list2 = [1]"
   ]
  },
  {
   "cell_type": "code",
   "execution_count": 96,
   "id": "7ff1500e",
   "metadata": {},
   "outputs": [
    {
     "data": {
      "text/plain": [
       "[1]"
      ]
     },
     "execution_count": 96,
     "metadata": {},
     "output_type": "execute_result"
    }
   ],
   "source": [
    "sol = Solution()\n",
    "sol.mergeTwoLists(list1, list2)"
   ]
  },
  {
   "cell_type": "code",
   "execution_count": null,
   "id": "a658b2a3",
   "metadata": {},
   "outputs": [],
   "source": []
  }
 ],
 "metadata": {
  "kernelspec": {
   "display_name": "Python 3 (ipykernel)",
   "language": "python",
   "name": "python3"
  },
  "language_info": {
   "codemirror_mode": {
    "name": "ipython",
    "version": 3
   },
   "file_extension": ".py",
   "mimetype": "text/x-python",
   "name": "python",
   "nbconvert_exporter": "python",
   "pygments_lexer": "ipython3",
   "version": "3.10.6"
  }
 },
 "nbformat": 4,
 "nbformat_minor": 5
}
