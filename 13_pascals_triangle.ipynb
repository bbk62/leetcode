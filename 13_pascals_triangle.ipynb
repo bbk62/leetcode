{
 "cells": [
  {
   "cell_type": "code",
   "execution_count": 2,
   "id": "ae1793fc",
   "metadata": {},
   "outputs": [],
   "source": [
    "from typing import List"
   ]
  },
  {
   "cell_type": "code",
   "execution_count": 27,
   "id": "0847d3f9",
   "metadata": {},
   "outputs": [],
   "source": [
    "class Solution:\n",
    "    def generate(self, numRows: int) -> List[List[int]]:\n",
    "        if numRows == 1:\n",
    "            return [[1]]\n",
    "        elif numRows == 2:\n",
    "            return [[1], [1,1]]\n",
    "        else:\n",
    "            return_list = [[1], [1,1]]\n",
    "            for i in range(2, numRows, 1):\n",
    "                appended = [1]\n",
    "                for j in range(len(return_list[-1])-1):\n",
    "                    appended.append(return_list[-1][j]+return_list[-1][j+1])\n",
    "                appended.append(1)\n",
    "                return_list.append(appended)\n",
    "            return return_list"
   ]
  },
  {
   "cell_type": "code",
   "execution_count": 28,
   "id": "3b80c88b",
   "metadata": {},
   "outputs": [],
   "source": [
    "sol = Solution()"
   ]
  },
  {
   "cell_type": "code",
   "execution_count": 31,
   "id": "da800f4c",
   "metadata": {},
   "outputs": [
    {
     "data": {
      "text/plain": [
       "[[1], [1, 1], [1, 2, 1], [1, 3, 3, 1], [1, 4, 6, 4, 1]]"
      ]
     },
     "execution_count": 31,
     "metadata": {},
     "output_type": "execute_result"
    }
   ],
   "source": [
    "sol.generate(numRows = 5)"
   ]
  },
  {
   "cell_type": "code",
   "execution_count": null,
   "id": "e1d43f27",
   "metadata": {},
   "outputs": [],
   "source": []
  }
 ],
 "metadata": {
  "kernelspec": {
   "display_name": "Python 3 (ipykernel)",
   "language": "python",
   "name": "python3"
  },
  "language_info": {
   "codemirror_mode": {
    "name": "ipython",
    "version": 3
   },
   "file_extension": ".py",
   "mimetype": "text/x-python",
   "name": "python",
   "nbconvert_exporter": "python",
   "pygments_lexer": "ipython3",
   "version": "3.11.4"
  }
 },
 "nbformat": 4,
 "nbformat_minor": 5
}
