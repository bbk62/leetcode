{
 "cells": [
  {
   "cell_type": "code",
   "execution_count": 23,
   "id": "723a2448",
   "metadata": {},
   "outputs": [],
   "source": [
    "class Solution:\n",
    "    def isValid(self, s: str) -> bool:\n",
    "        bracket_dict = {\n",
    "            '{': 0,\n",
    "            '[': 0,\n",
    "            '(': 0\n",
    "        }\n",
    "        \n",
    "        reverse_bracket_dict = {\n",
    "            '}':'{',\n",
    "            ']': '[',\n",
    "            ')': '('\n",
    "        }\n",
    "        \n",
    "        opened_bracket = []\n",
    "        \n",
    "        for i in s:\n",
    "            if i in ['{', '[', '(']:\n",
    "                opened_bracket.append(i)\n",
    "                bracket_dict[i] += 1\n",
    "            else:\n",
    "                bracket_dict[reverse_bracket_dict[i]] -= 1\n",
    "                if bracket_dict[reverse_bracket_dict[i]] < 0:\n",
    "                    return False\n",
    "                \n",
    "                if opened_bracket[-1] == reverse_bracket_dict[i]:\n",
    "                    opened_bracket.pop()\n",
    "                else:\n",
    "                    return False\n",
    "        \n",
    "        invalid_bracket = 0\n",
    "        for j in bracket_dict.keys():\n",
    "            if bracket_dict[j] != 0:\n",
    "                invalid_bracket += 1\n",
    "        if invalid_bracket == 0:\n",
    "            return True\n",
    "        else:\n",
    "            return False"
   ]
  },
  {
   "cell_type": "code",
   "execution_count": 24,
   "id": "1a333d4a",
   "metadata": {},
   "outputs": [],
   "source": [
    "sol = Solution()"
   ]
  },
  {
   "cell_type": "code",
   "execution_count": 33,
   "id": "5551a43f",
   "metadata": {},
   "outputs": [],
   "source": [
    "st = \"[\""
   ]
  },
  {
   "cell_type": "code",
   "execution_count": 34,
   "id": "388e126c",
   "metadata": {},
   "outputs": [
    {
     "data": {
      "text/plain": [
       "True"
      ]
     },
     "execution_count": 34,
     "metadata": {},
     "output_type": "execute_result"
    }
   ],
   "source": [
    "sol.isValid(st)"
   ]
  },
  {
   "cell_type": "code",
   "execution_count": null,
   "id": "accba126",
   "metadata": {},
   "outputs": [],
   "source": []
  }
 ],
 "metadata": {
  "kernelspec": {
   "display_name": "Python 3 (ipykernel)",
   "language": "python",
   "name": "python3"
  },
  "language_info": {
   "codemirror_mode": {
    "name": "ipython",
    "version": 3
   },
   "file_extension": ".py",
   "mimetype": "text/x-python",
   "name": "python",
   "nbconvert_exporter": "python",
   "pygments_lexer": "ipython3",
   "version": "3.10.6"
  }
 },
 "nbformat": 4,
 "nbformat_minor": 5
}
