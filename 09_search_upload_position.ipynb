{
 "cells": [
  {
   "cell_type": "markdown",
   "id": "a76ef0cd",
   "metadata": {},
   "source": [
    "https://leetcode.com/problems/search-insert-position/"
   ]
  },
  {
   "cell_type": "code",
   "execution_count": 1,
   "id": "9807f72c",
   "metadata": {},
   "outputs": [],
   "source": [
    "from typing import List"
   ]
  },
  {
   "cell_type": "code",
   "execution_count": 46,
   "id": "24565327",
   "metadata": {},
   "outputs": [],
   "source": [
    "class Solution:\n",
    "    def searchInsert(self, nums: List[int], target: int) -> int:\n",
    "        if target > nums[-1]:\n",
    "            return len(nums)\n",
    "        elif target < nums[0]:\n",
    "            return 0\n",
    "        else:\n",
    "            devide = len(nums)//2\n",
    "            element_down = nums[:devide][-1]\n",
    "            element_up = nums[devide:][0]\n",
    "\n",
    "            if target > element_down and target < element_up:\n",
    "                return devide\n",
    "            elif target == element_down:\n",
    "                return devide-1\n",
    "            elif target == element_up:\n",
    "                return devide\n",
    "            elif target < element_down:\n",
    "                return self.searchInsert(nums[:devide], target)\n",
    "            else:\n",
    "                return self.searchInsert(nums[devide:], target)"
   ]
  },
  {
   "cell_type": "code",
   "execution_count": 47,
   "id": "e922a3aa",
   "metadata": {},
   "outputs": [],
   "source": [
    "sol = Solution()"
   ]
  },
  {
   "cell_type": "code",
   "execution_count": 52,
   "id": "b008714e",
   "metadata": {},
   "outputs": [],
   "source": [
    "nums = [1,3,5,6]\n",
    "target = 5"
   ]
  },
  {
   "cell_type": "code",
   "execution_count": 53,
   "id": "b998acf1",
   "metadata": {},
   "outputs": [
    {
     "data": {
      "text/plain": [
       "2"
      ]
     },
     "execution_count": 53,
     "metadata": {},
     "output_type": "execute_result"
    }
   ],
   "source": [
    "sol.searchInsert(nums, target)"
   ]
  },
  {
   "cell_type": "code",
   "execution_count": null,
   "id": "a9dd794a",
   "metadata": {},
   "outputs": [],
   "source": []
  }
 ],
 "metadata": {
  "kernelspec": {
   "display_name": "Python 3 (ipykernel)",
   "language": "python",
   "name": "python3"
  },
  "language_info": {
   "codemirror_mode": {
    "name": "ipython",
    "version": 3
   },
   "file_extension": ".py",
   "mimetype": "text/x-python",
   "name": "python",
   "nbconvert_exporter": "python",
   "pygments_lexer": "ipython3",
   "version": "3.10.6"
  }
 },
 "nbformat": 4,
 "nbformat_minor": 5
}
