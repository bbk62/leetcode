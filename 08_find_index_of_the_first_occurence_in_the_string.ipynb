{
 "cells": [
  {
   "cell_type": "markdown",
   "id": "2a8c498d",
   "metadata": {},
   "source": [
    "https://leetcode.com/problems/find-the-index-of-the-first-occurrence-in-a-string/"
   ]
  },
  {
   "cell_type": "code",
   "execution_count": 10,
   "id": "cf81c4ab",
   "metadata": {},
   "outputs": [],
   "source": [
    "class Solution:\n",
    "    def strStr(self, haystack: str, needle: str) -> int:\n",
    "        result = -1\n",
    "        for i in range(len(haystack)):\n",
    "            if needle == haystack[i:i+len(needle)]:\n",
    "                result = i\n",
    "                break\n",
    "        return result"
   ]
  },
  {
   "cell_type": "code",
   "execution_count": 14,
   "id": "9bbb0429",
   "metadata": {},
   "outputs": [],
   "source": [
    "haystack = \"leetcode\"\n",
    "needle = \"leeto\""
   ]
  },
  {
   "cell_type": "code",
   "execution_count": 15,
   "id": "0dcad906",
   "metadata": {},
   "outputs": [],
   "source": [
    "sol = Solution()"
   ]
  },
  {
   "cell_type": "code",
   "execution_count": 16,
   "id": "daeb48ae",
   "metadata": {},
   "outputs": [
    {
     "data": {
      "text/plain": [
       "-1"
      ]
     },
     "execution_count": 16,
     "metadata": {},
     "output_type": "execute_result"
    }
   ],
   "source": [
    "sol.strStr(haystack, needle)"
   ]
  },
  {
   "cell_type": "code",
   "execution_count": null,
   "id": "d6c831cf",
   "metadata": {},
   "outputs": [],
   "source": []
  }
 ],
 "metadata": {
  "kernelspec": {
   "display_name": "Python 3 (ipykernel)",
   "language": "python",
   "name": "python3"
  },
  "language_info": {
   "codemirror_mode": {
    "name": "ipython",
    "version": 3
   },
   "file_extension": ".py",
   "mimetype": "text/x-python",
   "name": "python",
   "nbconvert_exporter": "python",
   "pygments_lexer": "ipython3",
   "version": "3.10.6"
  }
 },
 "nbformat": 4,
 "nbformat_minor": 5
}
