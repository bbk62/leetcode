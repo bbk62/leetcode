{
 "cells": [
  {
   "cell_type": "code",
   "execution_count": 38,
   "metadata": {},
   "outputs": [],
   "source": [
    "class Solution:\n",
    "    def addBinary(self, a: str, b: str) -> str:\n",
    "        if a == \"0\":\n",
    "            return b\n",
    "        elif b == \"0\":\n",
    "            return a\n",
    "        elif a==b==\"0\":\n",
    "            return \"0\"\n",
    "        else:\n",
    "            answer = []\n",
    "            if len(a) >= len(b):\n",
    "                long_num = a\n",
    "                short_num = b\n",
    "            else:\n",
    "                long_num = b\n",
    "                short_num = a\n",
    "            memory = 0\n",
    "            for i in range(-1, -(len(short_num)+1), -1):\n",
    "                tmp_subs = 0\n",
    "                x = int(long_num[i])\n",
    "                y = int(short_num[i])\n",
    "                if (x + y) == 1:\n",
    "                    tmp_subs = 1\n",
    "                    if memory == 0:\n",
    "                        answer.insert(0, \"1\")\n",
    "                        continue\n",
    "                    else:\n",
    "                        answer.insert(0, \"0\")\n",
    "                        continue\n",
    "                elif (x+y) == 2:\n",
    "                    tmp_subs = 10\n",
    "                    if memory == 0:\n",
    "                        answer.insert(0, \"0\")\n",
    "                        memory = 1\n",
    "                        continue\n",
    "                    else:\n",
    "                        answer.insert(0, \"1\")\n",
    "                        continue\n",
    "                else:\n",
    "                    if memory == 0:\n",
    "                        answer.insert(0, \"0\")\n",
    "                    else:\n",
    "                        answer.insert(0, \"1\")\n",
    "                        memory = 0\n",
    "            if len(long_num) == len(short_num):\n",
    "                if memory == 1:\n",
    "                    answer.insert(0, \"1\")\n",
    "                return ''.join(answer)\n",
    "            else:\n",
    "                if memory == 0:\n",
    "                    return long_num[:i]+''.join(answer)\n",
    "                else:\n",
    "                    return self.addBinary(long_num[:i], \"1\")+''.join(answer)\n",
    "        "
   ]
  },
  {
   "cell_type": "code",
   "execution_count": 39,
   "metadata": {},
   "outputs": [],
   "source": [
    "sol = Solution()"
   ]
  },
  {
   "cell_type": "code",
   "execution_count": 41,
   "metadata": {},
   "outputs": [
    {
     "data": {
      "text/plain": [
       "'10101'"
      ]
     },
     "execution_count": 41,
     "metadata": {},
     "output_type": "execute_result"
    }
   ],
   "source": [
    "a = \"1010\"\n",
    "b = \"1011\"\n",
    "\n",
    "sol.addBinary(a, b)"
   ]
  },
  {
   "cell_type": "code",
   "execution_count": 35,
   "metadata": {},
   "outputs": [],
   "source": [
    "x = [1,2,3,4,5,6]"
   ]
  },
  {
   "cell_type": "code",
   "execution_count": 36,
   "metadata": {},
   "outputs": [
    {
     "data": {
      "text/plain": [
       "[1, 2, 3]"
      ]
     },
     "execution_count": 36,
     "metadata": {},
     "output_type": "execute_result"
    }
   ],
   "source": [
    "x[:-3]"
   ]
  },
  {
   "cell_type": "code",
   "execution_count": 37,
   "metadata": {},
   "outputs": [
    {
     "data": {
      "text/plain": [
       "'abcdef'"
      ]
     },
     "execution_count": 37,
     "metadata": {},
     "output_type": "execute_result"
    }
   ],
   "source": [
    "\"abc\"+\"def\""
   ]
  },
  {
   "cell_type": "code",
   "execution_count": null,
   "metadata": {},
   "outputs": [],
   "source": []
  }
 ],
 "metadata": {
  "kernelspec": {
   "display_name": "Python 3 (ipykernel)",
   "language": "python",
   "name": "python3"
  },
  "language_info": {
   "codemirror_mode": {
    "name": "ipython",
    "version": 3
   },
   "file_extension": ".py",
   "mimetype": "text/x-python",
   "name": "python",
   "nbconvert_exporter": "python",
   "pygments_lexer": "ipython3",
   "version": "3.10.6"
  },
  "vscode": {
   "interpreter": {
    "hash": "5238573367df39f7286bb46f9ff5f08f63a01a80960060ce41e3c79b190280fa"
   }
  }
 },
 "nbformat": 4,
 "nbformat_minor": 2
}
