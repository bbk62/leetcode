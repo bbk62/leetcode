{
 "cells": [
  {
   "cell_type": "code",
   "execution_count": 49,
   "id": "54ee6079",
   "metadata": {},
   "outputs": [],
   "source": [
    "class Solution:\n",
    "    def romanToInt(self, s: str) -> int:\n",
    "        simbols_spr = {\"I\": 1,\n",
    "                       \"V\": 5,\n",
    "                       \"X\": 10,\n",
    "                       \"L\": 50,\n",
    "                       \"C\": 100,\n",
    "                       \"D\": 500,\n",
    "                       \"M\": 1000}\n",
    "        i = 0\n",
    "        if len(s) == 1:\n",
    "            return simbols_spr[s]\n",
    "        else:\n",
    "            list_str = list(s)\n",
    "            result = 0\n",
    "            for i in range(len(s)):\n",
    "                if i == len(list_str)-1:\n",
    "                    result += simbols_spr[list_str[i]]\n",
    "                else:\n",
    "                    cur_symbol = list_str[i]\n",
    "                    next_symbol = list_str[i+1]\n",
    "                    if cur_symbol == \"I\" and next_symbol == \"V\":\n",
    "                        result += 4\n",
    "                        i += 2\n",
    "                    elif cur_symbol == \"I\" and next_symbol == \"X\":\n",
    "                        result += 9\n",
    "                        i += 2\n",
    "                    elif cur_symbol == \"X\" and next_symbol == \"L\":\n",
    "                        result += 40\n",
    "                        i += 2\n",
    "                    elif cur_symbol == \"X\" and next_symbol == \"C\":\n",
    "                        result += 90\n",
    "                        i += 2\n",
    "                    elif cur_symbol == \"C\" and next_symbol == \"D\":\n",
    "                        result += 400\n",
    "                        i += 2\n",
    "                    elif cur_symbol == \"C\" and next_symbol == \"M\":\n",
    "                        result += 900\n",
    "                        i += 2\n",
    "                    else: \n",
    "                        result += simbols_spr[cur_symbol]\n",
    "                        i += 1\n",
    "        return result"
   ]
  },
  {
   "cell_type": "code",
   "execution_count": 50,
   "id": "7a11223e",
   "metadata": {},
   "outputs": [],
   "source": [
    "sol = Solution()"
   ]
  },
  {
   "cell_type": "code",
   "execution_count": 51,
   "id": "60cb71a5",
   "metadata": {},
   "outputs": [
    {
     "data": {
      "text/plain": [
       "3099"
      ]
     },
     "execution_count": 51,
     "metadata": {},
     "output_type": "execute_result"
    }
   ],
   "source": [
    "sol.romanToInt(\"MCMXCIV\")"
   ]
  },
  {
   "cell_type": "code",
   "execution_count": null,
   "id": "0afd271d",
   "metadata": {},
   "outputs": [],
   "source": []
  }
 ],
 "metadata": {
  "kernelspec": {
   "display_name": "Python 3 (ipykernel)",
   "language": "python",
   "name": "python3"
  },
  "language_info": {
   "codemirror_mode": {
    "name": "ipython",
    "version": 3
   },
   "file_extension": ".py",
   "mimetype": "text/x-python",
   "name": "python",
   "nbconvert_exporter": "python",
   "pygments_lexer": "ipython3",
   "version": "3.10.6"
  }
 },
 "nbformat": 4,
 "nbformat_minor": 5
}
