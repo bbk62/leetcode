{
 "cells": [
  {
   "cell_type": "code",
   "execution_count": null,
   "id": "3ff4d20e",
   "metadata": {},
   "outputs": [],
   "source": []
  },
  {
   "cell_type": "code",
   "execution_count": 1,
   "id": "56c29182",
   "metadata": {},
   "outputs": [],
   "source": [
    "nm = -121"
   ]
  },
  {
   "cell_type": "code",
   "execution_count": 22,
   "id": "37eef520",
   "metadata": {},
   "outputs": [],
   "source": [
    "class Solution:\n",
    "    def isPalindrome(self, x: int) -> bool:\n",
    "        if x//10 == 0:\n",
    "            return True\n",
    "        elif  x < 0 or x%10 == 0:\n",
    "            return False\n",
    "        else:\n",
    "            r = 0\n",
    "            n = x\n",
    "            while n != 0:\n",
    "                reminder = n%10\n",
    "                r = (r * 10) + reminder\n",
    "                n = n // 10\n",
    "            if x == r:\n",
    "                return True\n",
    "            else:\n",
    "                return False"
   ]
  },
  {
   "cell_type": "code",
   "execution_count": 23,
   "id": "2eed12d8",
   "metadata": {},
   "outputs": [],
   "source": [
    "sol = Solution()"
   ]
  },
  {
   "cell_type": "code",
   "execution_count": 24,
   "id": "20a3292b",
   "metadata": {},
   "outputs": [
    {
     "data": {
      "text/plain": [
       "True"
      ]
     },
     "execution_count": 24,
     "metadata": {},
     "output_type": "execute_result"
    }
   ],
   "source": [
    "sol.isPalindrome(0)"
   ]
  },
  {
   "cell_type": "code",
   "execution_count": 5,
   "id": "ef114fba",
   "metadata": {},
   "outputs": [],
   "source": [
    "n = 123"
   ]
  },
  {
   "cell_type": "code",
   "execution_count": 6,
   "id": "1f77d298",
   "metadata": {},
   "outputs": [
    {
     "data": {
      "text/plain": [
       "3"
      ]
     },
     "execution_count": 6,
     "metadata": {},
     "output_type": "execute_result"
    }
   ],
   "source": [
    "n%10"
   ]
  },
  {
   "cell_type": "code",
   "execution_count": 7,
   "id": "b4b1ae8e",
   "metadata": {},
   "outputs": [
    {
     "data": {
      "text/plain": [
       "12"
      ]
     },
     "execution_count": 7,
     "metadata": {},
     "output_type": "execute_result"
    }
   ],
   "source": [
    "n//10"
   ]
  },
  {
   "cell_type": "code",
   "execution_count": 12,
   "id": "bdb9cca4",
   "metadata": {},
   "outputs": [],
   "source": [
    "def reverse_number(n):\n",
    "    r=0\n",
    "    while n != 0:\n",
    "        reminder = n%10\n",
    "        r = (r * 10) + reminder\n",
    "        n = n // 10\n",
    "    return r"
   ]
  },
  {
   "cell_type": "code",
   "execution_count": null,
   "id": "27390815",
   "metadata": {},
   "outputs": [],
   "source": []
  }
 ],
 "metadata": {
  "kernelspec": {
   "display_name": "Python 3 (ipykernel)",
   "language": "python",
   "name": "python3"
  },
  "language_info": {
   "codemirror_mode": {
    "name": "ipython",
    "version": 3
   },
   "file_extension": ".py",
   "mimetype": "text/x-python",
   "name": "python",
   "nbconvert_exporter": "python",
   "pygments_lexer": "ipython3",
   "version": "3.10.6"
  }
 },
 "nbformat": 4,
 "nbformat_minor": 5
}
