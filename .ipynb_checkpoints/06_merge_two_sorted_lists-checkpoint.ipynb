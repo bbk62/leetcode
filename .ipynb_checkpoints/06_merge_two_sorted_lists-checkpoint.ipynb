{
 "cells": [
  {
   "cell_type": "code",
   "execution_count": 45,
   "id": "dc3f6d4d",
   "metadata": {},
   "outputs": [],
   "source": [
    "class Solution:\n",
    "    def mergeTwoLists(self, list1: list, list2: list) -> list:\n",
    "        if len(list1) == len(list2) == 0:\n",
    "            return []\n",
    "        elif len(list1) == 0 and len(list2) != 0:\n",
    "            return list2\n",
    "        elif len(list1) != 0 and len(list2) == 0:\n",
    "            return list1\n",
    "        else:\n",
    "            if list1[0] < list2[0]:\n",
    "                alist = list1\n",
    "                blist = list2\n",
    "            else:\n",
    "                alist = list2\n",
    "                blist = list1\n",
    "            merged_list = [alist[0]]\n",
    "            blist_index = 0\n",
    "            for i in range(1, len(alist), 1):\n",
    "                a = alist[i]\n",
    "                while blist_index < len(blist):\n",
    "                    for j in range(blist_index, len(blist), 1):\n",
    "                        if a < blist[j]:\n",
    "                            merged_list.append(a)\n",
    "                            blist_index += 1\n",
    "                            break\n",
    "                        elif blist[j] < a:\n",
    "                            merged_list.append(blist[j])\n",
    "                            blist_index += 1\n",
    "                        else:\n",
    "                            merged_list.append(a)\n",
    "                            merged_list.append(blist[j])\n",
    "                            blist_index += 1\n",
    "                            break\n",
    "        return merged_list"
   ]
  },
  {
   "cell_type": "code",
   "execution_count": 46,
   "id": "b439feee",
   "metadata": {},
   "outputs": [],
   "source": [
    "list1 = [1,2,4]\n",
    "list2 = [1,3,4]"
   ]
  },
  {
   "cell_type": "code",
   "execution_count": 47,
   "id": "9dfa7cad",
   "metadata": {},
   "outputs": [
    {
     "ename": "KeyboardInterrupt",
     "evalue": "",
     "output_type": "error",
     "traceback": [
      "\u001b[0;31m---------------------------------------------------------------------------\u001b[0m",
      "\u001b[0;31mKeyboardInterrupt\u001b[0m                         Traceback (most recent call last)",
      "Cell \u001b[0;32mIn[47], line 2\u001b[0m\n\u001b[1;32m      1\u001b[0m sol \u001b[38;5;241m=\u001b[39m Solution()\n\u001b[0;32m----> 2\u001b[0m \u001b[43msol\u001b[49m\u001b[38;5;241;43m.\u001b[39;49m\u001b[43mmergeTwoLists\u001b[49m\u001b[43m(\u001b[49m\u001b[43mlist1\u001b[49m\u001b[43m,\u001b[49m\u001b[43m \u001b[49m\u001b[43mlist2\u001b[49m\u001b[43m)\u001b[49m\n",
      "Cell \u001b[0;32mIn[45], line 21\u001b[0m, in \u001b[0;36mSolution.mergeTwoLists\u001b[0;34m(self, list1, list2)\u001b[0m\n\u001b[1;32m     19\u001b[0m a \u001b[38;5;241m=\u001b[39m alist[i]\n\u001b[1;32m     20\u001b[0m \u001b[38;5;28;01mwhile\u001b[39;00m \u001b[38;5;241m1\u001b[39m\u001b[38;5;241m==\u001b[39m\u001b[38;5;241m1\u001b[39m:\n\u001b[0;32m---> 21\u001b[0m     \u001b[38;5;28;01mfor\u001b[39;00m j \u001b[38;5;129;01min\u001b[39;00m \u001b[38;5;28;43mrange\u001b[39;49m\u001b[43m(\u001b[49m\u001b[43mblist_index\u001b[49m\u001b[43m,\u001b[49m\u001b[43m \u001b[49m\u001b[38;5;28;43mlen\u001b[39;49m\u001b[43m(\u001b[49m\u001b[43mblist\u001b[49m\u001b[43m)\u001b[49m\u001b[43m,\u001b[49m\u001b[43m \u001b[49m\u001b[38;5;241;43m1\u001b[39;49m\u001b[43m)\u001b[49m:\n\u001b[1;32m     22\u001b[0m         \u001b[38;5;28;01mif\u001b[39;00m a \u001b[38;5;241m<\u001b[39m blist[j]:\n\u001b[1;32m     23\u001b[0m             merged_list\u001b[38;5;241m.\u001b[39mappend(a)\n",
      "\u001b[0;31mKeyboardInterrupt\u001b[0m: "
     ]
    }
   ],
   "source": [
    "sol = Solution()\n",
    "sol.mergeTwoLists(list1, list2)"
   ]
  },
  {
   "cell_type": "code",
   "execution_count": null,
   "id": "24c025d0",
   "metadata": {},
   "outputs": [],
   "source": []
  }
 ],
 "metadata": {
  "kernelspec": {
   "display_name": "Python 3 (ipykernel)",
   "language": "python",
   "name": "python3"
  },
  "language_info": {
   "codemirror_mode": {
    "name": "ipython",
    "version": 3
   },
   "file_extension": ".py",
   "mimetype": "text/x-python",
   "name": "python",
   "nbconvert_exporter": "python",
   "pygments_lexer": "ipython3",
   "version": "3.10.6"
  }
 },
 "nbformat": 4,
 "nbformat_minor": 5
}
