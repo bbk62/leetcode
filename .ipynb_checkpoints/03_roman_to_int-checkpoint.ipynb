{
 "cells": [
  {
   "cell_type": "code",
   "execution_count": 46,
   "id": "9a35eb36",
   "metadata": {},
   "outputs": [],
   "source": [
    "class Solution:\n",
    "    def romanToInt(self, s: str) -> int:\n",
    "        simbols_spr = {\"I\": 1,\n",
    "                       \"V\": 5,\n",
    "                       \"X\": 10,\n",
    "                       \"L\": 50,\n",
    "                       \"C\": 100,\n",
    "                       \"D\": 500,\n",
    "                       \"M\": 1000}\n",
    "        i = 0\n",
    "        if len(s) == 1:\n",
    "            return simbols_spr[s]\n",
    "        else:\n",
    "            list_str = list(s)\n",
    "            result = 0\n",
    "            for i in range(len(s)):\n",
    "                if i == len(list_str):\n",
    "                    result += simbols_spr[list_str[i]]\n",
    "                else:\n",
    "                    cur_symbol = list_str[i]\n",
    "                    next_symbol = list_str[i+1]\n",
    "                    if cur_symbol == \"I\" and next_symbol == \"V\":\n",
    "                        result += 4\n",
    "                        i += 2\n",
    "                    elif cur_symbol == \"I\" and next_symbol == \"X\":\n",
    "                        result += 9\n",
    "                        i += 2\n",
    "                    elif cur_symbol == \"X\" and next_symbol == \"L\":\n",
    "                        result += 40\n",
    "                        i += 2\n",
    "                    elif cur_symbol == \"X\" and next_symbol == \"C\":\n",
    "                        result += 90\n",
    "                        i += 2\n",
    "                    elif cur_symbol == \"C\" and next_symbol == \"D\":\n",
    "                        result += 400\n",
    "                        i += 2\n",
    "                    elif cur_symbol == \"C\" and next_symbol == \"M\":\n",
    "                        result += 900\n",
    "                        i += 2\n",
    "                    else: \n",
    "                        result += simbols_spr[cur_symbol]\n",
    "                        i += 1\n",
    "        return result"
   ]
  },
  {
   "cell_type": "code",
   "execution_count": 47,
   "id": "6aee1e9f",
   "metadata": {},
   "outputs": [],
   "source": [
    "sol = Solution()"
   ]
  },
  {
   "cell_type": "code",
   "execution_count": 48,
   "id": "75b9aee0",
   "metadata": {},
   "outputs": [
    {
     "ename": "IndexError",
     "evalue": "list index out of range",
     "output_type": "error",
     "traceback": [
      "\u001b[0;31m---------------------------------------------------------------------------\u001b[0m",
      "\u001b[0;31mIndexError\u001b[0m                                Traceback (most recent call last)",
      "Cell \u001b[0;32mIn[48], line 1\u001b[0m\n\u001b[0;32m----> 1\u001b[0m \u001b[43msol\u001b[49m\u001b[38;5;241;43m.\u001b[39;49m\u001b[43mromanToInt\u001b[49m\u001b[43m(\u001b[49m\u001b[38;5;124;43m\"\u001b[39;49m\u001b[38;5;124;43mMCMXCIV\u001b[39;49m\u001b[38;5;124;43m\"\u001b[39;49m\u001b[43m)\u001b[49m\n",
      "Cell \u001b[0;32mIn[46], line 21\u001b[0m, in \u001b[0;36mSolution.romanToInt\u001b[0;34m(self, s)\u001b[0m\n\u001b[1;32m     19\u001b[0m \u001b[38;5;28;01melse\u001b[39;00m:\n\u001b[1;32m     20\u001b[0m     cur_symbol \u001b[38;5;241m=\u001b[39m list_str[i]\n\u001b[0;32m---> 21\u001b[0m     next_symbol \u001b[38;5;241m=\u001b[39m \u001b[43mlist_str\u001b[49m\u001b[43m[\u001b[49m\u001b[43mi\u001b[49m\u001b[38;5;241;43m+\u001b[39;49m\u001b[38;5;241;43m1\u001b[39;49m\u001b[43m]\u001b[49m\n\u001b[1;32m     22\u001b[0m     \u001b[38;5;28;01mif\u001b[39;00m cur_symbol \u001b[38;5;241m==\u001b[39m \u001b[38;5;124m\"\u001b[39m\u001b[38;5;124mI\u001b[39m\u001b[38;5;124m\"\u001b[39m \u001b[38;5;129;01mand\u001b[39;00m next_symbol \u001b[38;5;241m==\u001b[39m \u001b[38;5;124m\"\u001b[39m\u001b[38;5;124mV\u001b[39m\u001b[38;5;124m\"\u001b[39m:\n\u001b[1;32m     23\u001b[0m         result \u001b[38;5;241m+\u001b[39m\u001b[38;5;241m=\u001b[39m \u001b[38;5;241m4\u001b[39m\n",
      "\u001b[0;31mIndexError\u001b[0m: list index out of range"
     ]
    }
   ],
   "source": [
    "sol.romanToInt(\"MCMXCIV\")"
   ]
  },
  {
   "cell_type": "code",
   "execution_count": null,
   "id": "f78545fe",
   "metadata": {},
   "outputs": [],
   "source": []
  }
 ],
 "metadata": {
  "kernelspec": {
   "display_name": "Python 3 (ipykernel)",
   "language": "python",
   "name": "python3"
  },
  "language_info": {
   "codemirror_mode": {
    "name": "ipython",
    "version": 3
   },
   "file_extension": ".py",
   "mimetype": "text/x-python",
   "name": "python",
   "nbconvert_exporter": "python",
   "pygments_lexer": "ipython3",
   "version": "3.10.6"
  }
 },
 "nbformat": 4,
 "nbformat_minor": 5
}
