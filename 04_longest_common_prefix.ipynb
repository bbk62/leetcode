{
 "cells": [
  {
   "cell_type": "code",
   "execution_count": 1,
   "id": "1a0f1297",
   "metadata": {},
   "outputs": [],
   "source": [
    "from typing import List"
   ]
  },
  {
   "cell_type": "code",
   "execution_count": 10,
   "id": "1047fabb",
   "metadata": {},
   "outputs": [],
   "source": [
    "class Solution:\n",
    "    def longestCommonPrefix(self, strs: List[str]) -> str:\n",
    "        shortest = \"\"\n",
    "        min_len = 200\n",
    "        for i in strs:\n",
    "            if len(i) < min_len:\n",
    "                min_len = len(i)\n",
    "                shortest = i\n",
    "        \n",
    "        strs.remove(shortest)\n",
    "        \n",
    "        prefix = []\n",
    "        for i in range(len(shortest)):\n",
    "            target = shortest[i]\n",
    "            num_i = 0\n",
    "            for j in strs:\n",
    "                if j[i] == target:\n",
    "                    num_i += 1\n",
    "            if num_i == len(strs):\n",
    "                prefix.append(target)\n",
    "            else:\n",
    "                break\n",
    "                \n",
    "        return ''.join(prefix)"
   ]
  },
  {
   "cell_type": "code",
   "execution_count": 11,
   "id": "c0187efe",
   "metadata": {},
   "outputs": [],
   "source": [
    "sol = Solution()"
   ]
  },
  {
   "cell_type": "code",
   "execution_count": 12,
   "id": "3da64fa0",
   "metadata": {},
   "outputs": [
    {
     "data": {
      "text/plain": [
       "'c'"
      ]
     },
     "execution_count": 12,
     "metadata": {},
     "output_type": "execute_result"
    }
   ],
   "source": [
    "sol.longestCommonPrefix(strs = [\"cir\",\"car\"])"
   ]
  },
  {
   "cell_type": "code",
   "execution_count": null,
   "id": "713dc44e",
   "metadata": {},
   "outputs": [],
   "source": []
  }
 ],
 "metadata": {
  "kernelspec": {
   "display_name": "Python 3 (ipykernel)",
   "language": "python",
   "name": "python3"
  },
  "language_info": {
   "codemirror_mode": {
    "name": "ipython",
    "version": 3
   },
   "file_extension": ".py",
   "mimetype": "text/x-python",
   "name": "python",
   "nbconvert_exporter": "python",
   "pygments_lexer": "ipython3",
   "version": "3.10.6"
  }
 },
 "nbformat": 4,
 "nbformat_minor": 5
}
